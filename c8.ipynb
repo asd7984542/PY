{
 "cells": [
  {
   "cell_type": "markdown",
   "metadata": {},
   "source": [
    "# 函數"
   ]
  },
  {
   "cell_type": "code",
   "execution_count": 8,
   "metadata": {},
   "outputs": [
    {
     "name": "stdout",
     "output_type": "stream",
     "text": [
      "314.1592653589793\n",
      "62.83185307179586\n"
     ]
    }
   ],
   "source": [
    "import math \n",
    "def circle_calculate(radius, area = True):\n",
    "    '依據輸入的半徑與 area 參數計算圓形的面積或周長' \n",
    "    circle_area = math.pi * radius**2\n",
    "    circle_circum = 2 * math.pi * radius\n",
    "    if area == True:\n",
    "        return circle_area\n",
    "    else:\n",
    "        return circle_circum\n",
    "\n",
    "print(circle_calculate(10)) \n",
    "print(circle_calculate(10, area = False)) "
   ]
  },
  {
   "cell_type": "code",
   "execution_count": 2,
   "metadata": {},
   "outputs": [
    {
     "name": "stdout",
     "output_type": "stream",
     "text": [
      "[98, 88, 13, 14, 93, 44, 97, 35, 1, 28]\n",
      "[1, 13, 14, 28, 35, 44, 88, 93, 97, 98]\n",
      "[98, 97, 93, 88, 44, 35, 28, 14, 13, 1]\n"
     ]
    }
   ],
   "source": [
    "import random \n",
    "\n",
    "def exchange_sort(input_list, reverse = False):\n",
    "    ''' # 多行的 docstrings\n",
    "    依據輸入的 list 與 reverse 參數排序 list 中的數字後回傳。\n",
    "    reverse 參數預設為 False 遞增排序，可以修改為 True 遞減排序。\n",
    "    '''\n",
    "    input_list_cloned = input_list\n",
    "    if reverse == False:\n",
    "        for i in range(0, len(input_list) - 1):\n",
    "            for j in range(i+1, len(input_list)):\n",
    "                if input_list_cloned[i] > input_list_cloned[j]:\n",
    "                    temp = input_list_cloned[i]\n",
    "                    input_list_cloned[i] = input_list_cloned[j]\n",
    "                    input_list_cloned[j] = temp\n",
    "    else:\n",
    "        for i in range(0, len(input_list) - 1):\n",
    "            for j in range(i+1, len(input_list)):\n",
    "               \n",
    "                if input_list_cloned[i] < input_list_cloned[j]:\n",
    "                    temp = input_list_cloned[i]\n",
    "                    input_list_cloned[i] = input_list_cloned[j]\n",
    "                    input_list_cloned[j] = temp\n",
    "    return input_list_cloned\n",
    "\n",
    "\n",
    "my_vector = random.sample(range(0, 100), 10) \n",
    "print(my_vector)\n",
    "print(exchange_sort(my_vector))\n",
    "print(exchange_sort(my_vector, reverse = True)) "
   ]
  },
  {
   "cell_type": "code",
   "execution_count": 10,
   "metadata": {},
   "outputs": [
    {
     "name": "stdout",
     "output_type": "stream",
     "text": [
      "最多： 62 \n",
      " 最少： 6 \n",
      " 總組數： 6 \n",
      " 總鐵人數： 154\n"
     ]
    }
   ],
   "source": [
    "def ironmen_stats(ironmen_list):\n",
    "    max_ironmen = max(ironmen_list)\n",
    "    min_ironmen = min(ironmen_list)\n",
    "    ttl_groups = len(ironmen_list)\n",
    "    ttl_ironmen = sum(ironmen_list)\n",
    "    return max_ironmen, min_ironmen, ttl_groups, ttl_ironmen\n",
    "    \n",
    "ironmen = [50, 8, 16, 12, 6, 62]\n",
    "max_ironmen, min_ironmen, ttl_groups, ttl_ironmen = ironmen_stats(ironmen)\n",
    "print(\"最多：\", max_ironmen, \"\\n\", \"最少：\", min_ironmen, \"\\n\", \"總組數：\", ttl_groups, \"\\n\", \"總鐵人數：\", ttl_ironmen)"
   ]
  },
  {
   "cell_type": "markdown",
   "metadata": {},
   "source": [
    "# Python 的 lambda 函數\n",
    "lambda arg1, arg2, ....: expression"
   ]
  },
  {
   "cell_type": "code",
   "execution_count": null,
   "metadata": {
    "collapsed": true
   },
   "outputs": [],
   "source": [
    "\n",
    "def max(m, n):\n",
    "    return m if m > n else n\n",
    "\n",
    "print(max(10, 3))  "
   ]
  },
  {
   "cell_type": "code",
   "execution_count": 14,
   "metadata": {},
   "outputs": [
    {
     "name": "stdout",
     "output_type": "stream",
     "text": [
      "10\n"
     ]
    }
   ],
   "source": [
    "\n",
    "max=lambda x,y: x if x>y else n\n",
    "print(max(10,3))"
   ]
  },
  {
   "cell_type": "code",
   "execution_count": 11,
   "metadata": {},
   "outputs": [
    {
     "name": "stdout",
     "output_type": "stream",
     "text": [
      "[1500, 240, 480, 360, 180, 1860]\n"
     ]
    }
   ],
   "source": [
    "ironmen = [50, 8, 16, 12, 6, 62]\n",
    "ironmen_articles = list(map(lambda x : x * 30, ironmen))\n",
    "print(ironmen_articles)"
   ]
  },
  {
   "cell_type": "markdown",
   "metadata": {},
   "source": [
    "# 錯誤處理"
   ]
  },
  {
   "cell_type": "code",
   "execution_count": 3,
   "metadata": {},
   "outputs": [
    {
     "name": "stdout",
     "output_type": "stream",
     "text": [
      "9\n",
      "請輸入數值。\n"
     ]
    }
   ],
   "source": [
    "# 定義自訂函數\n",
    "def my_square(input_number):\n",
    "    '計算平方數且有錯誤處理的函數'\n",
    "    try:\n",
    "        ans = input_number**2\n",
    "        return ans\n",
    "    except:\n",
    "        print(\"請輸入數值。\")\n",
    "\n",
    "# 呼叫自訂函數\n",
    "print(my_square(3))\n",
    "my_square('ironmen')"
   ]
  },
  {
   "cell_type": "markdown",
   "metadata": {},
   "source": [
    "Python 可以使用 *args 或 **kwargs(Keyword arguments)來分別處理不帶鍵值與帶有鍵值的彈性數量參數，利用這個特性，我們不一定要使用資料結構把變數包裝起來當做輸入。"
   ]
  },
  {
   "cell_type": "code",
   "execution_count": 16,
   "metadata": {},
   "outputs": [
    {
     "name": "stdout",
     "output_type": "stream",
     "text": [
      "51\n",
      "8\n",
      "18\n",
      "13\n",
      "6\n",
      "---\n",
      "51\n",
      "8\n",
      "18\n",
      "13\n",
      "6\n",
      "64\n"
     ]
    }
   ],
   "source": [
    "# 定義自訂函數\n",
    "def ironmen_list(*args):\n",
    "    '列出各組參賽鐵人數'\n",
    "    for ironman in args:\n",
    "        print(ironman)\n",
    "\n",
    "# 呼叫自訂函數\n",
    "ironmen_list(51, 8, 18, 13, 6) # 不含自我挑戰組\n",
    "print(\"---\")\n",
    "ironmen_list(51, 8, 18, 13, 6, 64) # 含自我挑戰組"
   ]
  },
  {
   "cell_type": "code",
   "execution_count": null,
   "metadata": {
    "collapsed": true
   },
   "outputs": [],
   "source": []
  }
 ],
 "metadata": {
  "kernelspec": {
   "display_name": "Python 3",
   "language": "python",
   "name": "python3"
  },
  "language_info": {
   "codemirror_mode": {
    "name": "ipython",
    "version": 3
   },
   "file_extension": ".py",
   "mimetype": "text/x-python",
   "name": "python",
   "nbconvert_exporter": "python",
   "pygments_lexer": "ipython3",
   "version": "3.7.1"
  }
 },
 "nbformat": 4,
 "nbformat_minor": 2
}
